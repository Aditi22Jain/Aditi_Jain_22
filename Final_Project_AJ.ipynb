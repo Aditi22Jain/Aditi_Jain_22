{
 "cells": [
  {
   "cell_type": "markdown",
   "id": "fe3b96d4",
   "metadata": {},
   "source": [
    "Importing libraries"
   ]
  },
  {
   "cell_type": "code",
   "execution_count": 1,
   "id": "b887f4e1",
   "metadata": {},
   "outputs": [],
   "source": [
    "import matplotlib.pyplot as plt\n",
    "import tensorflow as tf\n",
    "import numpy as np\n",
    "import cv2\n",
    "from tensorflow.keras.models import Sequential\n",
    "from tensorflow.keras.layers import Conv2D, Dropout, Flatten, Dense, BatchNormalization, MaxPooling2D"
   ]
  },
  {
   "cell_type": "markdown",
   "id": "96d664e3",
   "metadata": {},
   "source": [
    "Displaying classes"
   ]
  },
  {
   "cell_type": "code",
   "execution_count": 2,
   "id": "4c3de211",
   "metadata": {},
   "outputs": [],
   "source": [
    "classes = ['Angry', 'Disgust', 'Fear', 'Happy', 'Sad', 'Surprise', 'Neutral']"
   ]
  },
  {
   "cell_type": "markdown",
   "id": "6fea904e",
   "metadata": {},
   "source": [
    "### Train_dataset used was :\n",
    "train_dataset = train.flow_from_directory('C:/Users/Aditi/Desktop/newtrain',   \n",
    "                                          batch_size = 32,\n",
    "                                          target_size = (200,200),\n",
    "                                          class_mode = 'categorical') \n",
    "### output : \n",
    "Found 28709 images belonging to 7 classes.\n",
    "                                          \n",
    "### Validation_dataset used was :\n",
    "validation_dataset = train.flow_from_directory('C:/Users/Aditi/Desktop/newvalidation',    \n",
    "                                                batch_size = 32,\n",
    "                                                target_size = (200,200),           \n",
    "                                                class_mode = 'categorical')\n",
    "### output : \n",
    "Found 7178 images belonging to 7 classes"
   ]
  },
  {
   "cell_type": "markdown",
   "id": "247afdd7",
   "metadata": {},
   "source": [
    "Model"
   ]
  },
  {
   "cell_type": "code",
   "execution_count": 3,
   "id": "37649849",
   "metadata": {},
   "outputs": [],
   "source": [
    "model = Sequential()\n",
    "model.add(Conv2D(32, kernel_size=(3, 3), activation='relu', input_shape=(48, 48, 1)))    \n",
    "model.add(Conv2D(64, kernel_size=(3, 3), activation='relu'))                             \n",
    "model.add(Conv2D(64, kernel_size=(3, 3), activation='relu'))               \n",
    "model.add(MaxPooling2D((2, 2)))\n",
    "model.add(Dropout(0.5))\n",
    "model.add(BatchNormalization())\n",
    "\n",
    "model.add(Conv2D(128, kernel_size=(3, 3), activation='relu'))                              \n",
    "model.add(Conv2D(128, kernel_size=(3, 3), activation='relu'))                  \n",
    "model.add(MaxPooling2D((2, 2)))\n",
    "model.add(Dropout(0.5))\n",
    "model.add(BatchNormalization())\n",
    "\n",
    "model.add(Conv2D(256, kernel_size=(3, 3), activation='relu'))                            \n",
    "model.add(Conv2D(256, kernel_size=(3, 3), activation='relu'))                  \n",
    "model.add(MaxPooling2D((2, 2)))\n",
    "model.add(Dropout(0.2))\n",
    "model.add(BatchNormalization())\n",
    "\n",
    "model.add(Flatten())\n",
    "model.add(Dense(128, activation='relu'))\n",
    "model.add(Dense(64, activation='relu'))\n",
    "model.add(Dense(32, activation='relu'))\n",
    "model.add(Dense(7, activation='softmax'))"
   ]
  },
  {
   "cell_type": "markdown",
   "id": "af3cb7e1",
   "metadata": {},
   "source": [
    "Summarizing the model"
   ]
  },
  {
   "cell_type": "code",
   "execution_count": 4,
   "id": "0daaa862",
   "metadata": {},
   "outputs": [
    {
     "name": "stdout",
     "output_type": "stream",
     "text": [
      "Model: \"sequential\"\n",
      "_________________________________________________________________\n",
      "Layer (type)                 Output Shape              Param #   \n",
      "=================================================================\n",
      "conv2d (Conv2D)              (None, 46, 46, 32)        320       \n",
      "_________________________________________________________________\n",
      "conv2d_1 (Conv2D)            (None, 44, 44, 64)        18496     \n",
      "_________________________________________________________________\n",
      "conv2d_2 (Conv2D)            (None, 42, 42, 64)        36928     \n",
      "_________________________________________________________________\n",
      "max_pooling2d (MaxPooling2D) (None, 21, 21, 64)        0         \n",
      "_________________________________________________________________\n",
      "dropout (Dropout)            (None, 21, 21, 64)        0         \n",
      "_________________________________________________________________\n",
      "batch_normalization (BatchNo (None, 21, 21, 64)        256       \n",
      "_________________________________________________________________\n",
      "conv2d_3 (Conv2D)            (None, 19, 19, 128)       73856     \n",
      "_________________________________________________________________\n",
      "conv2d_4 (Conv2D)            (None, 17, 17, 128)       147584    \n",
      "_________________________________________________________________\n",
      "max_pooling2d_1 (MaxPooling2 (None, 8, 8, 128)         0         \n",
      "_________________________________________________________________\n",
      "dropout_1 (Dropout)          (None, 8, 8, 128)         0         \n",
      "_________________________________________________________________\n",
      "batch_normalization_1 (Batch (None, 8, 8, 128)         512       \n",
      "_________________________________________________________________\n",
      "conv2d_5 (Conv2D)            (None, 6, 6, 256)         295168    \n",
      "_________________________________________________________________\n",
      "conv2d_6 (Conv2D)            (None, 4, 4, 256)         590080    \n",
      "_________________________________________________________________\n",
      "max_pooling2d_2 (MaxPooling2 (None, 2, 2, 256)         0         \n",
      "_________________________________________________________________\n",
      "dropout_2 (Dropout)          (None, 2, 2, 256)         0         \n",
      "_________________________________________________________________\n",
      "batch_normalization_2 (Batch (None, 2, 2, 256)         1024      \n",
      "_________________________________________________________________\n",
      "flatten (Flatten)            (None, 1024)              0         \n",
      "_________________________________________________________________\n",
      "dense (Dense)                (None, 128)               131200    \n",
      "_________________________________________________________________\n",
      "dense_1 (Dense)              (None, 64)                8256      \n",
      "_________________________________________________________________\n",
      "dense_2 (Dense)              (None, 32)                2080      \n",
      "_________________________________________________________________\n",
      "dense_3 (Dense)              (None, 7)                 231       \n",
      "=================================================================\n",
      "Total params: 1,305,991\n",
      "Trainable params: 1,305,095\n",
      "Non-trainable params: 896\n",
      "_________________________________________________________________\n"
     ]
    }
   ],
   "source": [
    "model.summary()"
   ]
  },
  {
   "cell_type": "markdown",
   "id": "219a8c29",
   "metadata": {},
   "source": [
    "Loading weight"
   ]
  },
  {
   "cell_type": "code",
   "execution_count": 5,
   "id": "d182c504",
   "metadata": {},
   "outputs": [
    {
     "data": {
      "text/plain": [
       "<tensorflow.python.training.tracking.util.CheckpointLoadStatus at 0x27e7df04a90>"
      ]
     },
     "execution_count": 5,
     "metadata": {},
     "output_type": "execute_result"
    }
   ],
   "source": [
    "model.load_weights('C:/Users/Aditi/Desktop/weights.hd5')"
   ]
  },
  {
   "cell_type": "markdown",
   "id": "e056da2c",
   "metadata": {},
   "source": [
    "Predicting model"
   ]
  },
  {
   "cell_type": "code",
   "execution_count": 7,
   "id": "6d47811b",
   "metadata": {},
   "outputs": [
    {
     "name": "stdout",
     "output_type": "stream",
     "text": [
      "Sad\n"
     ]
    },
    {
     "data": {
      "text/plain": [
       "<matplotlib.image.AxesImage at 0x27e00167760>"
      ]
     },
     "execution_count": 7,
     "metadata": {},
     "output_type": "execute_result"
    },
    {
     "data": {
      "image/png": "[encoded data removed]",
      "text/plain": [
       "<Figure size 432x288 with 1 Axes>"
      ]
     },
     "metadata": {
      "needs_background": "light"
     },
     "output_type": "display_data"
    }
   ],
   "source": [
    "img = cv2.imread('C:/Users/Aditi/Desktop/newvalidation/sad/PrivateTest_22191391.jpg')\n",
    "img = cv2.cvtColor(img,cv2.COLOR_BGR2GRAY)\n",
    "img1 = img.reshape((1,48,48,1))\n",
    "\n",
    "print(classes[np.argmax(model.predict(img1))])\n",
    "plt.imshow(img)\n"
   ]
  },
  {
   "cell_type": "markdown",
   "id": "04564ec8",
   "metadata": {},
   "source": [
    "# Accuary of Model : 80%"
   ]
  },
  {
   "cell_type": "markdown",
   "id": "c219a0e5",
   "metadata": {},
   "source": [
    "# This is code I used to train the model to get weights:\n",
    "COMPILING MODEL:\n",
    "optimizer = optimizers.Adam(learning_rate= 0.001) \n",
    "model.compile(optimizer= optimizer,\n",
    "             loss = 'categorical_crossentropy',\n",
    "             metrics=['accuracy'])\n",
    "\n",
    "MODEL FIT:\n",
    "model_fit = model.fit(train_dataset,\n",
    "                     batch_size = 64, \n",
    "                     epochs = 50,\n",
    "                     validation_data = validation_dataset)"
   ]
  },
  {
   "cell_type": "markdown",
   "id": "af2a1b6e",
   "metadata": {},
   "source": [
    "# Some random path_to_images \n",
    "\n",
    "'C:/Users/Aditi/Desktop/newvalidation/neutral/PrivateTest_11724564.jpg'\n",
    "'C:/Users/Aditi/Desktop/newvalidation/neutral/PrivateTest_29338334.jpg'\n",
    "'C:/Users/Aditi/Desktop/newvalidation/neutral/PrivateTest_34273172.jpg'\n",
    "'C:/Users/Aditi/Desktop/newvalidation/neutral/PrivateTest_46022583.jpg'\n",
    "'C:/Users/Aditi/Desktop/newvalidation/neutral/PrivateTest_70890780.jpg'\n",
    "\n",
    "'C:/Users/Aditi/Desktop/newvalidation/angry/PrivateTest_7969511.jpg'\n",
    "'C:/Users/Aditi/Desktop/newvalidation/angry/PrivateTest_7622844.jpg'\n",
    "'C:/Users/Aditi/Desktop/newvalidation/angry/PrivateTest_13278552.jpg'\n",
    "'C:/Users/Aditi/Desktop/newvalidation/angry/PrivateTest_20588149.jpg'\n",
    "'C:/Users/Aditi/Desktop/newvalidation/angry/PrivateTest_22203098.jpg'\n",
    "\n",
    "'C:/Users/Aditi/Desktop/newvalidation/fear/PrivateTest_166793.jpg'\n",
    "'C:/Users/Aditi/Desktop/newvalidation/fear/PrivateTest_2333732.jpg'\n",
    "'C:/Users/Aditi/Desktop/newvalidation/fear/PrivateTest_6511300.jpg'\n",
    "'C:/Users/Aditi/Desktop/newvalidation/fear/PrivateTest_8576699.jpg'\n",
    "'C:/Users/Aditi/Desktop/newvalidation/fear/PrivateTest_10306709.jpg'\n",
    "\n",
    "'C:/Users/Aditi/Desktop/newvalidation/happy/PrivateTest_647018.jpg'\n",
    "'C:/Users/Aditi/Desktop/newvalidation/happy/PrivateTest_2764941.jpg'\n",
    "'C:/Users/Aditi/Desktop/newvalidation/happy/PrivateTest_3333329.jpg'\n",
    "'C:/Users/Aditi/Desktop/newvalidation/happy/PrivateTest_4014756.jpg'\n",
    "'C:/Users/Aditi/Desktop/newvalidation/happy/PrivateTest_4315069.jpg'\n",
    "\n",
    "'C:/Users/Aditi/Desktop/newvalidation/sad/PrivateTest_4412719.jpg'\n",
    "'C:/Users/Aditi/Desktop/newvalidation/sad/PrivateTest_22191391.jpg'\n",
    "\n",
    "'C:/Users/Aditi/Desktop/newvalidation/disgust/PrivateTest_28980932.jpg'\n",
    "\n",
    "'C:/Users/Aditi/Desktop/newvalidation/surprise/PrivateTest_139065.jpg'\n",
    "'C:/Users/Aditi/Desktop/newvalidation/surprise/PrivateTest_104142.jpg'\n",
    "'C:/Users/Aditi/Desktop/newvalidation/surprise/PrivateTest_6116699.jpg'\n",
    "'C:/Users/Aditi/Desktop/newvalidation/surprise/PrivateTest_6587334.jpg\n",
    "'C:/Users/Aditi/Desktop/newvalidation/surprise/PrivateTest_10072988.jpg'\n",
    "\n",
    "'C:/Users/Aditi/Desktop/newvalidation/angry/PrivateTest_14740105.jpg'\n",
    "'C:/Users/Aditi/Desktop/newvalidation/neutral/PrivateTest_687498.jpg'\n",
    "'C:/Users/Aditi/Desktop/newvalidation/disgust/PrivateTest_62447860.jpg'\n",
    "'C:/Users/Aditi/Desktop/newvalidation/fear/PrivateTest_2632530.jpg'\n",
    "'C:/Users/Aditi/Desktop/newvalidation/happy/PrivateTest_2911075.jpg'\n",
    "'C:/Users/Aditi/Desktop/newvalidation/sad/PrivateTest_34581536.jpg'\n",
    "'C:/Users/Aditi/Desktop/newvalidation/surprise/PrivateTest_1338609.jpg'"
   ]
  }
 ],
 "metadata": {
  "kernelspec": {
   "display_name": "Python 3",
   "language": "python",
   "name": "python3"
  },
  "language_info": {
   "codemirror_mode": {
    "name": "ipython",
    "version": 3
   },
   "file_extension": ".py",
   "mimetype": "text/x-python",
   "name": "python",
   "nbconvert_exporter": "python",
   "pygments_lexer": "ipython3",
   "version": "3.9.5"
  }
 },
 "nbformat": 4,
 "nbformat_minor": 5
}
